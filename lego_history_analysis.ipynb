{
  "cells": [
    {
      "cell_type": "markdown",
      "id": "8f4d9b73",
      "metadata": {
        "papermill": {
          "duration": 0.023392,
          "end_time": "2022-03-13T14:41:02.237649",
          "exception": false,
          "start_time": "2022-03-13T14:41:02.214257",
          "status": "completed"
        },
        "tags": [],
        "id": "8f4d9b73"
      },
      "source": [
        "#### In this notebook, I try to explore the lego history dataset provided by DataCamp and try to answer two questions\n",
        "#### Question #1: What is the percentage of lincensed sets which were Star Wars?\n",
        "#### Question #2: In which year was Star Wars not the most popular licensed theme ()in terms of number of sets released that year?\n",
        "#### Additionally, I will try figuring out how many licensed sets were released in each year\n",
        "\n",
        "##### check out the DataCamp project in that link https://app.datacamp.com/learn/projects/history-of-lego/guided/Python"
      ]
    },
    {
      "cell_type": "code",
      "execution_count": 2,
      "id": "c4d60c1a",
      "metadata": {
        "execution": {
          "iopub.execute_input": "2022-03-13T14:41:02.294775Z",
          "iopub.status.busy": "2022-03-13T14:41:02.286693Z",
          "iopub.status.idle": "2022-03-13T14:41:02.299598Z",
          "shell.execute_reply": "2022-03-13T14:41:02.298790Z",
          "shell.execute_reply.started": "2022-03-13T14:28:36.954136Z"
        },
        "papermill": {
          "duration": 0.039501,
          "end_time": "2022-03-13T14:41:02.299812",
          "exception": false,
          "start_time": "2022-03-13T14:41:02.260311",
          "status": "completed"
        },
        "tags": [],
        "id": "c4d60c1a"
      },
      "outputs": [],
      "source": [
        "import pandas as pd\n",
        "import matplotlib.pyplot as plt"
      ]
    },
    {
      "cell_type": "code",
      "execution_count": 3,
      "id": "73a4c601",
      "metadata": {
        "_cell_guid": "b1076dfc-b9ad-4769-8c92-a6c4dae69d19",
        "_uuid": "8f2839f25d086af736a60e9eeb907d3b93b6e0e5",
        "execution": {
          "iopub.execute_input": "2022-03-13T14:41:02.350272Z",
          "iopub.status.busy": "2022-03-13T14:41:02.349376Z",
          "iopub.status.idle": "2022-03-13T14:41:02.404600Z",
          "shell.execute_reply": "2022-03-13T14:41:02.405128Z",
          "shell.execute_reply.started": "2022-03-13T14:18:29.978470Z"
        },
        "papermill": {
          "duration": 0.084189,
          "end_time": "2022-03-13T14:41:02.405337",
          "exception": false,
          "start_time": "2022-03-13T14:41:02.321148",
          "status": "completed"
        },
        "tags": [],
        "id": "73a4c601"
      },
      "outputs": [],
      "source": [
        "# load datasets into dataframes\n",
        "lego_sets_df = pd.read_csv('sets.csv')\n",
        "parent_themes_df = pd.read_csv('themes.csv')"
      ]
    },
    {
      "cell_type": "code",
      "execution_count": 4,
      "id": "21ab5df7",
      "metadata": {
        "execution": {
          "iopub.execute_input": "2022-03-13T14:41:02.455232Z",
          "iopub.status.busy": "2022-03-13T14:41:02.454133Z",
          "iopub.status.idle": "2022-03-13T14:41:02.478097Z",
          "shell.execute_reply": "2022-03-13T14:41:02.478629Z",
          "shell.execute_reply.started": "2022-03-13T14:18:30.011511Z"
        },
        "papermill": {
          "duration": 0.050693,
          "end_time": "2022-03-13T14:41:02.478823",
          "exception": false,
          "start_time": "2022-03-13T14:41:02.428130",
          "status": "completed"
        },
        "tags": [],
        "colab": {
          "base_uri": "https://localhost:8080/",
          "height": 206
        },
        "id": "21ab5df7",
        "outputId": "64557950-2205-4588-f179-3250b4fbf11d"
      },
      "outputs": [
        {
          "output_type": "execute_result",
          "data": {
            "text/plain": [
              "  set_num                        name  year  theme_id  num_parts\n",
              "0    00-1             Weetabix Castle  1970       414        471\n",
              "1  0011-2           Town Mini-Figures  1978        84         12\n",
              "2  0011-3  Castle 2 for 1 Bonus Offer  1987       199          2\n",
              "3  0012-1          Space Mini-Figures  1979       143         12\n",
              "4  0013-1          Space Mini-Figures  1979       143         12"
            ],
            "text/html": [
              "\n",
              "  <div id=\"df-d7561d85-2ea4-4fc8-b27b-e9e0e89e93f6\">\n",
              "    <div class=\"colab-df-container\">\n",
              "      <div>\n",
              "<style scoped>\n",
              "    .dataframe tbody tr th:only-of-type {\n",
              "        vertical-align: middle;\n",
              "    }\n",
              "\n",
              "    .dataframe tbody tr th {\n",
              "        vertical-align: top;\n",
              "    }\n",
              "\n",
              "    .dataframe thead th {\n",
              "        text-align: right;\n",
              "    }\n",
              "</style>\n",
              "<table border=\"1\" class=\"dataframe\">\n",
              "  <thead>\n",
              "    <tr style=\"text-align: right;\">\n",
              "      <th></th>\n",
              "      <th>set_num</th>\n",
              "      <th>name</th>\n",
              "      <th>year</th>\n",
              "      <th>theme_id</th>\n",
              "      <th>num_parts</th>\n",
              "    </tr>\n",
              "  </thead>\n",
              "  <tbody>\n",
              "    <tr>\n",
              "      <th>0</th>\n",
              "      <td>00-1</td>\n",
              "      <td>Weetabix Castle</td>\n",
              "      <td>1970</td>\n",
              "      <td>414</td>\n",
              "      <td>471</td>\n",
              "    </tr>\n",
              "    <tr>\n",
              "      <th>1</th>\n",
              "      <td>0011-2</td>\n",
              "      <td>Town Mini-Figures</td>\n",
              "      <td>1978</td>\n",
              "      <td>84</td>\n",
              "      <td>12</td>\n",
              "    </tr>\n",
              "    <tr>\n",
              "      <th>2</th>\n",
              "      <td>0011-3</td>\n",
              "      <td>Castle 2 for 1 Bonus Offer</td>\n",
              "      <td>1987</td>\n",
              "      <td>199</td>\n",
              "      <td>2</td>\n",
              "    </tr>\n",
              "    <tr>\n",
              "      <th>3</th>\n",
              "      <td>0012-1</td>\n",
              "      <td>Space Mini-Figures</td>\n",
              "      <td>1979</td>\n",
              "      <td>143</td>\n",
              "      <td>12</td>\n",
              "    </tr>\n",
              "    <tr>\n",
              "      <th>4</th>\n",
              "      <td>0013-1</td>\n",
              "      <td>Space Mini-Figures</td>\n",
              "      <td>1979</td>\n",
              "      <td>143</td>\n",
              "      <td>12</td>\n",
              "    </tr>\n",
              "  </tbody>\n",
              "</table>\n",
              "</div>\n",
              "      <button class=\"colab-df-convert\" onclick=\"convertToInteractive('df-d7561d85-2ea4-4fc8-b27b-e9e0e89e93f6')\"\n",
              "              title=\"Convert this dataframe to an interactive table.\"\n",
              "              style=\"display:none;\">\n",
              "        \n",
              "  <svg xmlns=\"http://www.w3.org/2000/svg\" height=\"24px\"viewBox=\"0 0 24 24\"\n",
              "       width=\"24px\">\n",
              "    <path d=\"M0 0h24v24H0V0z\" fill=\"none\"/>\n",
              "    <path d=\"M18.56 5.44l.94 2.06.94-2.06 2.06-.94-2.06-.94-.94-2.06-.94 2.06-2.06.94zm-11 1L8.5 8.5l.94-2.06 2.06-.94-2.06-.94L8.5 2.5l-.94 2.06-2.06.94zm10 10l.94 2.06.94-2.06 2.06-.94-2.06-.94-.94-2.06-.94 2.06-2.06.94z\"/><path d=\"M17.41 7.96l-1.37-1.37c-.4-.4-.92-.59-1.43-.59-.52 0-1.04.2-1.43.59L10.3 9.45l-7.72 7.72c-.78.78-.78 2.05 0 2.83L4 21.41c.39.39.9.59 1.41.59.51 0 1.02-.2 1.41-.59l7.78-7.78 2.81-2.81c.8-.78.8-2.07 0-2.86zM5.41 20L4 18.59l7.72-7.72 1.47 1.35L5.41 20z\"/>\n",
              "  </svg>\n",
              "      </button>\n",
              "      \n",
              "  <style>\n",
              "    .colab-df-container {\n",
              "      display:flex;\n",
              "      flex-wrap:wrap;\n",
              "      gap: 12px;\n",
              "    }\n",
              "\n",
              "    .colab-df-convert {\n",
              "      background-color: #E8F0FE;\n",
              "      border: none;\n",
              "      border-radius: 50%;\n",
              "      cursor: pointer;\n",
              "      display: none;\n",
              "      fill: #1967D2;\n",
              "      height: 32px;\n",
              "      padding: 0 0 0 0;\n",
              "      width: 32px;\n",
              "    }\n",
              "\n",
              "    .colab-df-convert:hover {\n",
              "      background-color: #E2EBFA;\n",
              "      box-shadow: 0px 1px 2px rgba(60, 64, 67, 0.3), 0px 1px 3px 1px rgba(60, 64, 67, 0.15);\n",
              "      fill: #174EA6;\n",
              "    }\n",
              "\n",
              "    [theme=dark] .colab-df-convert {\n",
              "      background-color: #3B4455;\n",
              "      fill: #D2E3FC;\n",
              "    }\n",
              "\n",
              "    [theme=dark] .colab-df-convert:hover {\n",
              "      background-color: #434B5C;\n",
              "      box-shadow: 0px 1px 3px 1px rgba(0, 0, 0, 0.15);\n",
              "      filter: drop-shadow(0px 1px 2px rgba(0, 0, 0, 0.3));\n",
              "      fill: #FFFFFF;\n",
              "    }\n",
              "  </style>\n",
              "\n",
              "      <script>\n",
              "        const buttonEl =\n",
              "          document.querySelector('#df-d7561d85-2ea4-4fc8-b27b-e9e0e89e93f6 button.colab-df-convert');\n",
              "        buttonEl.style.display =\n",
              "          google.colab.kernel.accessAllowed ? 'block' : 'none';\n",
              "\n",
              "        async function convertToInteractive(key) {\n",
              "          const element = document.querySelector('#df-d7561d85-2ea4-4fc8-b27b-e9e0e89e93f6');\n",
              "          const dataTable =\n",
              "            await google.colab.kernel.invokeFunction('convertToInteractive',\n",
              "                                                     [key], {});\n",
              "          if (!dataTable) return;\n",
              "\n",
              "          const docLinkHtml = 'Like what you see? Visit the ' +\n",
              "            '<a target=\"_blank\" href=https://colab.research.google.com/notebooks/data_table.ipynb>data table notebook</a>'\n",
              "            + ' to learn more about interactive tables.';\n",
              "          element.innerHTML = '';\n",
              "          dataTable['output_type'] = 'display_data';\n",
              "          await google.colab.output.renderOutput(dataTable, element);\n",
              "          const docLink = document.createElement('div');\n",
              "          docLink.innerHTML = docLinkHtml;\n",
              "          element.appendChild(docLink);\n",
              "        }\n",
              "      </script>\n",
              "    </div>\n",
              "  </div>\n",
              "  "
            ]
          },
          "metadata": {},
          "execution_count": 4
        }
      ],
      "source": [
        "lego_sets_df.head()"
      ]
    },
    {
      "cell_type": "code",
      "execution_count": 5,
      "id": "c4a5390f",
      "metadata": {
        "execution": {
          "iopub.execute_input": "2022-03-13T14:41:02.527671Z",
          "iopub.status.busy": "2022-03-13T14:41:02.526635Z",
          "iopub.status.idle": "2022-03-13T14:41:02.538151Z",
          "shell.execute_reply": "2022-03-13T14:41:02.537532Z",
          "shell.execute_reply.started": "2022-03-13T14:18:30.024385Z"
        },
        "papermill": {
          "duration": 0.036862,
          "end_time": "2022-03-13T14:41:02.538320",
          "exception": false,
          "start_time": "2022-03-13T14:41:02.501458",
          "status": "completed"
        },
        "tags": [],
        "colab": {
          "base_uri": "https://localhost:8080/",
          "height": 206
        },
        "id": "c4a5390f",
        "outputId": "54c7a61f-5af9-43e6-863c-6b5489b33a0b"
      },
      "outputs": [
        {
          "output_type": "execute_result",
          "data": {
            "text/plain": [
              "   id            name  parent_id\n",
              "0   1         Technic        NaN\n",
              "1   2  Arctic Technic        1.0\n",
              "2   3     Competition        1.0\n",
              "3   4  Expert Builder        1.0\n",
              "4   5           Model        1.0"
            ],
            "text/html": [
              "\n",
              "  <div id=\"df-d22bce84-f07e-48f4-97e7-b42649dc3a40\">\n",
              "    <div class=\"colab-df-container\">\n",
              "      <div>\n",
              "<style scoped>\n",
              "    .dataframe tbody tr th:only-of-type {\n",
              "        vertical-align: middle;\n",
              "    }\n",
              "\n",
              "    .dataframe tbody tr th {\n",
              "        vertical-align: top;\n",
              "    }\n",
              "\n",
              "    .dataframe thead th {\n",
              "        text-align: right;\n",
              "    }\n",
              "</style>\n",
              "<table border=\"1\" class=\"dataframe\">\n",
              "  <thead>\n",
              "    <tr style=\"text-align: right;\">\n",
              "      <th></th>\n",
              "      <th>id</th>\n",
              "      <th>name</th>\n",
              "      <th>parent_id</th>\n",
              "    </tr>\n",
              "  </thead>\n",
              "  <tbody>\n",
              "    <tr>\n",
              "      <th>0</th>\n",
              "      <td>1</td>\n",
              "      <td>Technic</td>\n",
              "      <td>NaN</td>\n",
              "    </tr>\n",
              "    <tr>\n",
              "      <th>1</th>\n",
              "      <td>2</td>\n",
              "      <td>Arctic Technic</td>\n",
              "      <td>1.0</td>\n",
              "    </tr>\n",
              "    <tr>\n",
              "      <th>2</th>\n",
              "      <td>3</td>\n",
              "      <td>Competition</td>\n",
              "      <td>1.0</td>\n",
              "    </tr>\n",
              "    <tr>\n",
              "      <th>3</th>\n",
              "      <td>4</td>\n",
              "      <td>Expert Builder</td>\n",
              "      <td>1.0</td>\n",
              "    </tr>\n",
              "    <tr>\n",
              "      <th>4</th>\n",
              "      <td>5</td>\n",
              "      <td>Model</td>\n",
              "      <td>1.0</td>\n",
              "    </tr>\n",
              "  </tbody>\n",
              "</table>\n",
              "</div>\n",
              "      <button class=\"colab-df-convert\" onclick=\"convertToInteractive('df-d22bce84-f07e-48f4-97e7-b42649dc3a40')\"\n",
              "              title=\"Convert this dataframe to an interactive table.\"\n",
              "              style=\"display:none;\">\n",
              "        \n",
              "  <svg xmlns=\"http://www.w3.org/2000/svg\" height=\"24px\"viewBox=\"0 0 24 24\"\n",
              "       width=\"24px\">\n",
              "    <path d=\"M0 0h24v24H0V0z\" fill=\"none\"/>\n",
              "    <path d=\"M18.56 5.44l.94 2.06.94-2.06 2.06-.94-2.06-.94-.94-2.06-.94 2.06-2.06.94zm-11 1L8.5 8.5l.94-2.06 2.06-.94-2.06-.94L8.5 2.5l-.94 2.06-2.06.94zm10 10l.94 2.06.94-2.06 2.06-.94-2.06-.94-.94-2.06-.94 2.06-2.06.94z\"/><path d=\"M17.41 7.96l-1.37-1.37c-.4-.4-.92-.59-1.43-.59-.52 0-1.04.2-1.43.59L10.3 9.45l-7.72 7.72c-.78.78-.78 2.05 0 2.83L4 21.41c.39.39.9.59 1.41.59.51 0 1.02-.2 1.41-.59l7.78-7.78 2.81-2.81c.8-.78.8-2.07 0-2.86zM5.41 20L4 18.59l7.72-7.72 1.47 1.35L5.41 20z\"/>\n",
              "  </svg>\n",
              "      </button>\n",
              "      \n",
              "  <style>\n",
              "    .colab-df-container {\n",
              "      display:flex;\n",
              "      flex-wrap:wrap;\n",
              "      gap: 12px;\n",
              "    }\n",
              "\n",
              "    .colab-df-convert {\n",
              "      background-color: #E8F0FE;\n",
              "      border: none;\n",
              "      border-radius: 50%;\n",
              "      cursor: pointer;\n",
              "      display: none;\n",
              "      fill: #1967D2;\n",
              "      height: 32px;\n",
              "      padding: 0 0 0 0;\n",
              "      width: 32px;\n",
              "    }\n",
              "\n",
              "    .colab-df-convert:hover {\n",
              "      background-color: #E2EBFA;\n",
              "      box-shadow: 0px 1px 2px rgba(60, 64, 67, 0.3), 0px 1px 3px 1px rgba(60, 64, 67, 0.15);\n",
              "      fill: #174EA6;\n",
              "    }\n",
              "\n",
              "    [theme=dark] .colab-df-convert {\n",
              "      background-color: #3B4455;\n",
              "      fill: #D2E3FC;\n",
              "    }\n",
              "\n",
              "    [theme=dark] .colab-df-convert:hover {\n",
              "      background-color: #434B5C;\n",
              "      box-shadow: 0px 1px 3px 1px rgba(0, 0, 0, 0.15);\n",
              "      filter: drop-shadow(0px 1px 2px rgba(0, 0, 0, 0.3));\n",
              "      fill: #FFFFFF;\n",
              "    }\n",
              "  </style>\n",
              "\n",
              "      <script>\n",
              "        const buttonEl =\n",
              "          document.querySelector('#df-d22bce84-f07e-48f4-97e7-b42649dc3a40 button.colab-df-convert');\n",
              "        buttonEl.style.display =\n",
              "          google.colab.kernel.accessAllowed ? 'block' : 'none';\n",
              "\n",
              "        async function convertToInteractive(key) {\n",
              "          const element = document.querySelector('#df-d22bce84-f07e-48f4-97e7-b42649dc3a40');\n",
              "          const dataTable =\n",
              "            await google.colab.kernel.invokeFunction('convertToInteractive',\n",
              "                                                     [key], {});\n",
              "          if (!dataTable) return;\n",
              "\n",
              "          const docLinkHtml = 'Like what you see? Visit the ' +\n",
              "            '<a target=\"_blank\" href=https://colab.research.google.com/notebooks/data_table.ipynb>data table notebook</a>'\n",
              "            + ' to learn more about interactive tables.';\n",
              "          element.innerHTML = '';\n",
              "          dataTable['output_type'] = 'display_data';\n",
              "          await google.colab.output.renderOutput(dataTable, element);\n",
              "          const docLink = document.createElement('div');\n",
              "          docLink.innerHTML = docLinkHtml;\n",
              "          element.appendChild(docLink);\n",
              "        }\n",
              "      </script>\n",
              "    </div>\n",
              "  </div>\n",
              "  "
            ]
          },
          "metadata": {},
          "execution_count": 5
        }
      ],
      "source": [
        "parent_themes_df.head()"
      ]
    },
    {
      "cell_type": "markdown",
      "id": "ea115eaa",
      "metadata": {
        "papermill": {
          "duration": 0.022057,
          "end_time": "2022-03-13T14:41:02.583536",
          "exception": false,
          "start_time": "2022-03-13T14:41:02.561479",
          "status": "completed"
        },
        "tags": [],
        "id": "ea115eaa"
      },
      "source": [
        "## Question #1: What is the percentage of lincensed sets which were Star Wars?"
      ]
    },
    {
      "cell_type": "code",
      "execution_count": 7,
      "id": "07cf4115",
      "metadata": {
        "execution": {
          "iopub.execute_input": "2022-03-13T14:41:02.632616Z",
          "iopub.status.busy": "2022-03-13T14:41:02.631558Z",
          "iopub.status.idle": "2022-03-13T14:41:02.672787Z",
          "shell.execute_reply": "2022-03-13T14:41:02.673305Z",
          "shell.execute_reply.started": "2022-03-13T14:18:30.040162Z"
        },
        "papermill": {
          "duration": 0.067503,
          "end_time": "2022-03-13T14:41:02.673501",
          "exception": false,
          "start_time": "2022-03-13T14:41:02.605998",
          "status": "completed"
        },
        "tags": [],
        "colab": {
          "base_uri": "https://localhost:8080/",
          "height": 407
        },
        "id": "07cf4115",
        "outputId": "3eb580eb-9029-422b-a213-8e11143dcc30"
      },
      "outputs": [
        {
          "output_type": "error",
          "ename": "KeyError",
          "evalue": "ignored",
          "traceback": [
            "\u001b[0;31m---------------------------------------------------------------------------\u001b[0m",
            "\u001b[0;31mKeyError\u001b[0m                                  Traceback (most recent call last)",
            "\u001b[0;32m<ipython-input-7-58a7ff524735>\u001b[0m in \u001b[0;36m<module>\u001b[0;34m()\u001b[0m\n\u001b[1;32m      1\u001b[0m \u001b[0;31m# try to merge two datasets into one\u001b[0m\u001b[0;34m\u001b[0m\u001b[0;34m\u001b[0m\u001b[0;34m\u001b[0m\u001b[0m\n\u001b[0;32m----> 2\u001b[0;31m \u001b[0mmerged\u001b[0m \u001b[0;34m=\u001b[0m \u001b[0mpd\u001b[0m\u001b[0;34m.\u001b[0m\u001b[0mmerge\u001b[0m\u001b[0;34m(\u001b[0m\u001b[0mlego_sets_df\u001b[0m\u001b[0;34m,\u001b[0m \u001b[0mparent_themes_df\u001b[0m\u001b[0;34m,\u001b[0m \u001b[0mhow\u001b[0m \u001b[0;34m=\u001b[0m \u001b[0;34m'inner'\u001b[0m\u001b[0;34m,\u001b[0m \u001b[0mleft_on\u001b[0m \u001b[0;34m=\u001b[0m \u001b[0;34m'parent_theme'\u001b[0m\u001b[0;34m,\u001b[0m \u001b[0mright_on\u001b[0m \u001b[0;34m=\u001b[0m \u001b[0;34m'name'\u001b[0m\u001b[0;34m)\u001b[0m\u001b[0;34m\u001b[0m\u001b[0;34m\u001b[0m\u001b[0m\n\u001b[0m\u001b[1;32m      3\u001b[0m \u001b[0mmerged\u001b[0m\u001b[0;34m.\u001b[0m\u001b[0mdrop\u001b[0m\u001b[0;34m(\u001b[0m\u001b[0mcolumns\u001b[0m \u001b[0;34m=\u001b[0m \u001b[0;34m'name_y'\u001b[0m\u001b[0;34m,\u001b[0m \u001b[0minplace\u001b[0m \u001b[0;34m=\u001b[0m \u001b[0;32mTrue\u001b[0m\u001b[0;34m)\u001b[0m\u001b[0;34m\u001b[0m\u001b[0;34m\u001b[0m\u001b[0m\n\u001b[1;32m      4\u001b[0m \u001b[0mmerged\u001b[0m\u001b[0;34m.\u001b[0m\u001b[0mhead\u001b[0m\u001b[0;34m(\u001b[0m\u001b[0;34m)\u001b[0m\u001b[0;34m\u001b[0m\u001b[0;34m\u001b[0m\u001b[0m\n",
            "\u001b[0;32m/usr/local/lib/python3.7/dist-packages/pandas/core/reshape/merge.py\u001b[0m in \u001b[0;36mmerge\u001b[0;34m(left, right, how, on, left_on, right_on, left_index, right_index, sort, suffixes, copy, indicator, validate)\u001b[0m\n\u001b[1;32m    117\u001b[0m         \u001b[0mcopy\u001b[0m\u001b[0;34m=\u001b[0m\u001b[0mcopy\u001b[0m\u001b[0;34m,\u001b[0m\u001b[0;34m\u001b[0m\u001b[0;34m\u001b[0m\u001b[0m\n\u001b[1;32m    118\u001b[0m         \u001b[0mindicator\u001b[0m\u001b[0;34m=\u001b[0m\u001b[0mindicator\u001b[0m\u001b[0;34m,\u001b[0m\u001b[0;34m\u001b[0m\u001b[0;34m\u001b[0m\u001b[0m\n\u001b[0;32m--> 119\u001b[0;31m         \u001b[0mvalidate\u001b[0m\u001b[0;34m=\u001b[0m\u001b[0mvalidate\u001b[0m\u001b[0;34m,\u001b[0m\u001b[0;34m\u001b[0m\u001b[0;34m\u001b[0m\u001b[0m\n\u001b[0m\u001b[1;32m    120\u001b[0m     )\n\u001b[1;32m    121\u001b[0m     \u001b[0;32mreturn\u001b[0m \u001b[0mop\u001b[0m\u001b[0;34m.\u001b[0m\u001b[0mget_result\u001b[0m\u001b[0;34m(\u001b[0m\u001b[0;34m)\u001b[0m\u001b[0;34m\u001b[0m\u001b[0;34m\u001b[0m\u001b[0m\n",
            "\u001b[0;32m/usr/local/lib/python3.7/dist-packages/pandas/core/reshape/merge.py\u001b[0m in \u001b[0;36m__init__\u001b[0;34m(self, left, right, how, on, left_on, right_on, axis, left_index, right_index, sort, suffixes, copy, indicator, validate)\u001b[0m\n\u001b[1;32m    697\u001b[0m             \u001b[0mself\u001b[0m\u001b[0;34m.\u001b[0m\u001b[0mright_join_keys\u001b[0m\u001b[0;34m,\u001b[0m\u001b[0;34m\u001b[0m\u001b[0;34m\u001b[0m\u001b[0m\n\u001b[1;32m    698\u001b[0m             \u001b[0mself\u001b[0m\u001b[0;34m.\u001b[0m\u001b[0mjoin_names\u001b[0m\u001b[0;34m,\u001b[0m\u001b[0;34m\u001b[0m\u001b[0;34m\u001b[0m\u001b[0m\n\u001b[0;32m--> 699\u001b[0;31m         ) = self._get_merge_keys()\n\u001b[0m\u001b[1;32m    700\u001b[0m \u001b[0;34m\u001b[0m\u001b[0m\n\u001b[1;32m    701\u001b[0m         \u001b[0;31m# validate the merge keys dtypes. We may need to coerce\u001b[0m\u001b[0;34m\u001b[0m\u001b[0;34m\u001b[0m\u001b[0;34m\u001b[0m\u001b[0m\n",
            "\u001b[0;32m/usr/local/lib/python3.7/dist-packages/pandas/core/reshape/merge.py\u001b[0m in \u001b[0;36m_get_merge_keys\u001b[0;34m(self)\u001b[0m\n\u001b[1;32m   1107\u001b[0m                         \u001b[0mright_keys\u001b[0m\u001b[0;34m.\u001b[0m\u001b[0mappend\u001b[0m\u001b[0;34m(\u001b[0m\u001b[0mrk\u001b[0m\u001b[0;34m)\u001b[0m\u001b[0;34m\u001b[0m\u001b[0;34m\u001b[0m\u001b[0m\n\u001b[1;32m   1108\u001b[0m                     \u001b[0;32mif\u001b[0m \u001b[0mlk\u001b[0m \u001b[0;32mis\u001b[0m \u001b[0;32mnot\u001b[0m \u001b[0;32mNone\u001b[0m\u001b[0;34m:\u001b[0m\u001b[0;34m\u001b[0m\u001b[0;34m\u001b[0m\u001b[0m\n\u001b[0;32m-> 1109\u001b[0;31m                         \u001b[0mleft_keys\u001b[0m\u001b[0;34m.\u001b[0m\u001b[0mappend\u001b[0m\u001b[0;34m(\u001b[0m\u001b[0mleft\u001b[0m\u001b[0;34m.\u001b[0m\u001b[0m_get_label_or_level_values\u001b[0m\u001b[0;34m(\u001b[0m\u001b[0mlk\u001b[0m\u001b[0;34m)\u001b[0m\u001b[0;34m)\u001b[0m\u001b[0;34m\u001b[0m\u001b[0;34m\u001b[0m\u001b[0m\n\u001b[0m\u001b[1;32m   1110\u001b[0m                         \u001b[0mjoin_names\u001b[0m\u001b[0;34m.\u001b[0m\u001b[0mappend\u001b[0m\u001b[0;34m(\u001b[0m\u001b[0mlk\u001b[0m\u001b[0;34m)\u001b[0m\u001b[0;34m\u001b[0m\u001b[0;34m\u001b[0m\u001b[0m\n\u001b[1;32m   1111\u001b[0m                     \u001b[0;32melse\u001b[0m\u001b[0;34m:\u001b[0m\u001b[0;34m\u001b[0m\u001b[0;34m\u001b[0m\u001b[0m\n",
            "\u001b[0;32m/usr/local/lib/python3.7/dist-packages/pandas/core/generic.py\u001b[0m in \u001b[0;36m_get_label_or_level_values\u001b[0;34m(self, key, axis)\u001b[0m\n\u001b[1;32m   1777\u001b[0m             \u001b[0mvalues\u001b[0m \u001b[0;34m=\u001b[0m \u001b[0mself\u001b[0m\u001b[0;34m.\u001b[0m\u001b[0maxes\u001b[0m\u001b[0;34m[\u001b[0m\u001b[0maxis\u001b[0m\u001b[0;34m]\u001b[0m\u001b[0;34m.\u001b[0m\u001b[0mget_level_values\u001b[0m\u001b[0;34m(\u001b[0m\u001b[0mkey\u001b[0m\u001b[0;34m)\u001b[0m\u001b[0;34m.\u001b[0m\u001b[0m_values\u001b[0m\u001b[0;34m\u001b[0m\u001b[0;34m\u001b[0m\u001b[0m\n\u001b[1;32m   1778\u001b[0m         \u001b[0;32melse\u001b[0m\u001b[0;34m:\u001b[0m\u001b[0;34m\u001b[0m\u001b[0;34m\u001b[0m\u001b[0m\n\u001b[0;32m-> 1779\u001b[0;31m             \u001b[0;32mraise\u001b[0m \u001b[0mKeyError\u001b[0m\u001b[0;34m(\u001b[0m\u001b[0mkey\u001b[0m\u001b[0;34m)\u001b[0m\u001b[0;34m\u001b[0m\u001b[0;34m\u001b[0m\u001b[0m\n\u001b[0m\u001b[1;32m   1780\u001b[0m \u001b[0;34m\u001b[0m\u001b[0m\n\u001b[1;32m   1781\u001b[0m         \u001b[0;31m# Check for duplicates\u001b[0m\u001b[0;34m\u001b[0m\u001b[0;34m\u001b[0m\u001b[0;34m\u001b[0m\u001b[0m\n",
            "\u001b[0;31mKeyError\u001b[0m: 'parent_theme'"
          ]
        }
      ],
      "source": [
        "# try to merge two datasets into one\n",
        "merged = pd.merge(lego_sets_df, parent_themes_df, how = 'inner', left_on = 'parent_theme', right_on = 'name')\n",
        "merged.drop(columns = 'name_y', inplace = True)\n",
        "merged.head()"
      ]
    },
    {
      "cell_type": "code",
      "execution_count": 8,
      "id": "4f4f71de",
      "metadata": {
        "execution": {
          "iopub.execute_input": "2022-03-13T14:41:02.727774Z",
          "iopub.status.busy": "2022-03-13T14:41:02.726647Z",
          "iopub.status.idle": "2022-03-13T14:41:02.733301Z",
          "shell.execute_reply": "2022-03-13T14:41:02.732673Z",
          "shell.execute_reply.started": "2022-03-13T14:18:30.069046Z"
        },
        "papermill": {
          "duration": 0.037109,
          "end_time": "2022-03-13T14:41:02.733465",
          "exception": false,
          "start_time": "2022-03-13T14:41:02.696356",
          "status": "completed"
        },
        "tags": [],
        "colab": {
          "base_uri": "https://localhost:8080/",
          "height": 204
        },
        "id": "4f4f71de",
        "outputId": "30956f73-7e85-4c56-affe-55edcc44ab53"
      },
      "outputs": [
        {
          "output_type": "error",
          "ename": "NameError",
          "evalue": "ignored",
          "traceback": [
            "\u001b[0;31m---------------------------------------------------------------------------\u001b[0m",
            "\u001b[0;31mNameError\u001b[0m                                 Traceback (most recent call last)",
            "\u001b[0;32m<ipython-input-8-c31e01e9226a>\u001b[0m in \u001b[0;36m<module>\u001b[0;34m()\u001b[0m\n\u001b[1;32m      4\u001b[0m \u001b[0;31m# So we need to remove those null values\u001b[0m\u001b[0;34m\u001b[0m\u001b[0;34m\u001b[0m\u001b[0;34m\u001b[0m\u001b[0m\n\u001b[1;32m      5\u001b[0m \u001b[0;34m\u001b[0m\u001b[0m\n\u001b[0;32m----> 6\u001b[0;31m \u001b[0mmerged_cleaned\u001b[0m \u001b[0;34m=\u001b[0m \u001b[0mmerged\u001b[0m\u001b[0;34m.\u001b[0m\u001b[0mdropna\u001b[0m\u001b[0;34m(\u001b[0m\u001b[0msubset\u001b[0m \u001b[0;34m=\u001b[0m \u001b[0;34m[\u001b[0m\u001b[0;34m'set_num'\u001b[0m\u001b[0;34m]\u001b[0m\u001b[0;34m)\u001b[0m\u001b[0;34m\u001b[0m\u001b[0;34m\u001b[0m\u001b[0m\n\u001b[0m",
            "\u001b[0;31mNameError\u001b[0m: name 'merged' is not defined"
          ]
        }
      ],
      "source": [
        "# seems like the prev answer we got in the prev version (45%) is wrong.\n",
        "# we need to clean data\n",
        "# as it mentioned there in the doc, set_num could be null which means it could be invalid or duplicated sets\n",
        "# So we need to remove those null values\n",
        "\n",
        "merged_cleaned = merged.dropna(subset = ['set_num'])"
      ]
    },
    {
      "cell_type": "code",
      "execution_count": 9,
      "id": "3fdc1d30",
      "metadata": {
        "execution": {
          "iopub.execute_input": "2022-03-13T14:41:02.786365Z",
          "iopub.status.busy": "2022-03-13T14:41:02.785668Z",
          "iopub.status.idle": "2022-03-13T14:41:02.800404Z",
          "shell.execute_reply": "2022-03-13T14:41:02.801005Z",
          "shell.execute_reply.started": "2022-03-13T14:18:30.079420Z"
        },
        "papermill": {
          "duration": 0.04155,
          "end_time": "2022-03-13T14:41:02.801190",
          "exception": false,
          "start_time": "2022-03-13T14:41:02.759640",
          "status": "completed"
        },
        "tags": [],
        "colab": {
          "base_uri": "https://localhost:8080/",
          "height": 204
        },
        "id": "3fdc1d30",
        "outputId": "66072baa-032f-4485-d143-e7e123b30123"
      },
      "outputs": [
        {
          "output_type": "error",
          "ename": "NameError",
          "evalue": "ignored",
          "traceback": [
            "\u001b[0;31m---------------------------------------------------------------------------\u001b[0m",
            "\u001b[0;31mNameError\u001b[0m                                 Traceback (most recent call last)",
            "\u001b[0;32m<ipython-input-9-bb722ddde113>\u001b[0m in \u001b[0;36m<module>\u001b[0;34m()\u001b[0m\n\u001b[1;32m      1\u001b[0m \u001b[0;31m# Get just those themes were licensed\u001b[0m\u001b[0;34m\u001b[0m\u001b[0;34m\u001b[0m\u001b[0;34m\u001b[0m\u001b[0m\n\u001b[0;32m----> 2\u001b[0;31m \u001b[0mlicensed_themes\u001b[0m \u001b[0;34m=\u001b[0m \u001b[0mmerged_cleaned\u001b[0m\u001b[0;34m[\u001b[0m\u001b[0mmerged_cleaned\u001b[0m\u001b[0;34m[\u001b[0m\u001b[0;34m\"is_licensed\"\u001b[0m\u001b[0;34m]\u001b[0m\u001b[0;34m]\u001b[0m\u001b[0;34m\u001b[0m\u001b[0;34m\u001b[0m\u001b[0m\n\u001b[0m\u001b[1;32m      3\u001b[0m \u001b[0mlicensed_themes\u001b[0m\u001b[0;34m.\u001b[0m\u001b[0mhead\u001b[0m\u001b[0;34m(\u001b[0m\u001b[0;34m)\u001b[0m\u001b[0;34m\u001b[0m\u001b[0;34m\u001b[0m\u001b[0m\n",
            "\u001b[0;31mNameError\u001b[0m: name 'merged_cleaned' is not defined"
          ]
        }
      ],
      "source": [
        "# Get just those themes were licensed\n",
        "licensed_themes = merged_cleaned[merged_cleaned[\"is_licensed\"]]\n",
        "licensed_themes.head()"
      ]
    },
    {
      "cell_type": "code",
      "execution_count": 10,
      "id": "d15d402e",
      "metadata": {
        "execution": {
          "iopub.execute_input": "2022-03-13T14:41:02.851066Z",
          "iopub.status.busy": "2022-03-13T14:41:02.850351Z",
          "iopub.status.idle": "2022-03-13T14:41:02.858618Z",
          "shell.execute_reply": "2022-03-13T14:41:02.859320Z",
          "shell.execute_reply.started": "2022-03-13T14:18:30.098464Z"
        },
        "papermill": {
          "duration": 0.034991,
          "end_time": "2022-03-13T14:41:02.859523",
          "exception": false,
          "start_time": "2022-03-13T14:41:02.824532",
          "status": "completed"
        },
        "tags": [],
        "colab": {
          "base_uri": "https://localhost:8080/",
          "height": 240
        },
        "id": "d15d402e",
        "outputId": "69e86e9a-1d74-4ed6-cdbd-ed6f07a2438c"
      },
      "outputs": [
        {
          "output_type": "error",
          "ename": "NameError",
          "evalue": "ignored",
          "traceback": [
            "\u001b[0;31m---------------------------------------------------------------------------\u001b[0m",
            "\u001b[0;31mNameError\u001b[0m                                 Traceback (most recent call last)",
            "\u001b[0;32m<ipython-input-10-c2eabcf7e8e2>\u001b[0m in \u001b[0;36m<module>\u001b[0;34m()\u001b[0m\n\u001b[1;32m      1\u001b[0m \u001b[0;31m# Calculate the percentage of Star Wars\u001b[0m\u001b[0;34m\u001b[0m\u001b[0;34m\u001b[0m\u001b[0;34m\u001b[0m\u001b[0m\n\u001b[0;32m----> 2\u001b[0;31m \u001b[0mall_licensed_count\u001b[0m \u001b[0;34m=\u001b[0m \u001b[0mlicensed_themes\u001b[0m\u001b[0;34m.\u001b[0m\u001b[0mshape\u001b[0m\u001b[0;34m[\u001b[0m\u001b[0;36m0\u001b[0m\u001b[0;34m]\u001b[0m\u001b[0;34m\u001b[0m\u001b[0;34m\u001b[0m\u001b[0m\n\u001b[0m\u001b[1;32m      3\u001b[0m \u001b[0mstar_war_legos\u001b[0m \u001b[0;34m=\u001b[0m \u001b[0mlicensed_themes\u001b[0m\u001b[0;34m[\u001b[0m\u001b[0mlicensed_themes\u001b[0m\u001b[0;34m[\u001b[0m\u001b[0;34m\"parent_theme\"\u001b[0m\u001b[0;34m]\u001b[0m \u001b[0;34m==\u001b[0m \u001b[0;34m'Star Wars'\u001b[0m\u001b[0;34m]\u001b[0m\u001b[0;34m\u001b[0m\u001b[0;34m\u001b[0m\u001b[0m\n\u001b[1;32m      4\u001b[0m \u001b[0mlicensed_star_wars_count\u001b[0m \u001b[0;34m=\u001b[0m \u001b[0mstar_war_legos\u001b[0m\u001b[0;34m.\u001b[0m\u001b[0mshape\u001b[0m\u001b[0;34m[\u001b[0m\u001b[0;36m0\u001b[0m\u001b[0;34m]\u001b[0m\u001b[0;34m\u001b[0m\u001b[0;34m\u001b[0m\u001b[0m\n\u001b[1;32m      5\u001b[0m \u001b[0;34m\u001b[0m\u001b[0m\n",
            "\u001b[0;31mNameError\u001b[0m: name 'licensed_themes' is not defined"
          ]
        }
      ],
      "source": [
        "# Calculate the percentage of Star Wars\n",
        "all_licensed_count = licensed_themes.shape[0]\n",
        "star_war_legos = licensed_themes[licensed_themes[\"parent_theme\"] == 'Star Wars']\n",
        "licensed_star_wars_count = star_war_legos.shape[0]\n",
        "\n",
        "licensed_star_wars_percentage = int(licensed_star_wars_count/all_licensed_count * 100)\n",
        "licensed_star_wars_percentage\n"
      ]
    },
    {
      "cell_type": "code",
      "execution_count": null,
      "id": "308f220c",
      "metadata": {
        "execution": {
          "iopub.execute_input": "2022-03-13T14:41:02.912265Z",
          "iopub.status.busy": "2022-03-13T14:41:02.911219Z",
          "iopub.status.idle": "2022-03-13T14:41:02.914625Z",
          "shell.execute_reply": "2022-03-13T14:41:02.915198Z",
          "shell.execute_reply.started": "2022-03-13T14:18:30.108376Z"
        },
        "papermill": {
          "duration": 0.031311,
          "end_time": "2022-03-13T14:41:02.915383",
          "exception": false,
          "start_time": "2022-03-13T14:41:02.884072",
          "status": "completed"
        },
        "tags": [],
        "id": "308f220c"
      },
      "outputs": [],
      "source": [
        "# Seems like the answer this time (51%) is correct"
      ]
    },
    {
      "cell_type": "code",
      "execution_count": null,
      "id": "d2ca2cde",
      "metadata": {
        "papermill": {
          "duration": 0.023467,
          "end_time": "2022-03-13T14:41:02.963128",
          "exception": false,
          "start_time": "2022-03-13T14:41:02.939661",
          "status": "completed"
        },
        "tags": [],
        "id": "d2ca2cde"
      },
      "outputs": [],
      "source": [
        ""
      ]
    },
    {
      "cell_type": "markdown",
      "id": "5de0a549",
      "metadata": {
        "papermill": {
          "duration": 0.025848,
          "end_time": "2022-03-13T14:41:03.012867",
          "exception": false,
          "start_time": "2022-03-13T14:41:02.987019",
          "status": "completed"
        },
        "tags": [],
        "id": "5de0a549"
      },
      "source": [
        "#### What is the percentage of licensed sets which were Star Wars? 51%"
      ]
    },
    {
      "cell_type": "markdown",
      "id": "1215bc24",
      "metadata": {
        "papermill": {
          "duration": 0.024731,
          "end_time": "2022-03-13T14:41:03.061254",
          "exception": false,
          "start_time": "2022-03-13T14:41:03.036523",
          "status": "completed"
        },
        "tags": [],
        "id": "1215bc24"
      },
      "source": [
        "## Question #2: In which year was Star Wars not the most popular licensed theme ()in terms of number of sets released that year?"
      ]
    },
    {
      "cell_type": "code",
      "execution_count": 11,
      "id": "ffdfe6ed",
      "metadata": {
        "execution": {
          "iopub.execute_input": "2022-03-13T14:41:03.117665Z",
          "iopub.status.busy": "2022-03-13T14:41:03.116892Z",
          "iopub.status.idle": "2022-03-13T14:41:03.138213Z",
          "shell.execute_reply": "2022-03-13T14:41:03.137591Z",
          "shell.execute_reply.started": "2022-03-13T14:18:30.115915Z"
        },
        "papermill": {
          "duration": 0.052631,
          "end_time": "2022-03-13T14:41:03.138381",
          "exception": false,
          "start_time": "2022-03-13T14:41:03.085750",
          "status": "completed"
        },
        "tags": [],
        "colab": {
          "base_uri": "https://localhost:8080/",
          "height": 222
        },
        "id": "ffdfe6ed",
        "outputId": "4ceffa55-1c9c-4eb9-bb3b-969b76223fe7"
      },
      "outputs": [
        {
          "output_type": "error",
          "ename": "NameError",
          "evalue": "ignored",
          "traceback": [
            "\u001b[0;31m---------------------------------------------------------------------------\u001b[0m",
            "\u001b[0;31mNameError\u001b[0m                                 Traceback (most recent call last)",
            "\u001b[0;32m<ipython-input-11-12a2e3f5e7f8>\u001b[0m in \u001b[0;36m<module>\u001b[0;34m()\u001b[0m\n\u001b[1;32m      1\u001b[0m \u001b[0;31m# let's add \"count\" columns = 1 to all rows, then we can sum depends on that columns\u001b[0m\u001b[0;34m\u001b[0m\u001b[0;34m\u001b[0m\u001b[0;34m\u001b[0m\u001b[0m\n\u001b[0;32m----> 2\u001b[0;31m \u001b[0mlicensed_themes\u001b[0m\u001b[0;34m[\u001b[0m\u001b[0;34m'count'\u001b[0m\u001b[0;34m]\u001b[0m \u001b[0;34m=\u001b[0m \u001b[0;36m1\u001b[0m\u001b[0;34m\u001b[0m\u001b[0;34m\u001b[0m\u001b[0m\n\u001b[0m\u001b[1;32m      3\u001b[0m \u001b[0mgroup_by_years\u001b[0m \u001b[0;34m=\u001b[0m \u001b[0mlicensed_themes\u001b[0m\u001b[0;34m.\u001b[0m\u001b[0mgroupby\u001b[0m\u001b[0;34m(\u001b[0m\u001b[0;34m[\u001b[0m\u001b[0;34m'year'\u001b[0m\u001b[0;34m,\u001b[0m\u001b[0;34m'parent_theme'\u001b[0m\u001b[0;34m]\u001b[0m\u001b[0;34m)\u001b[0m\u001b[0;34m.\u001b[0m\u001b[0msum\u001b[0m\u001b[0;34m(\u001b[0m\u001b[0;34m)\u001b[0m\u001b[0;34m\u001b[0m\u001b[0;34m\u001b[0m\u001b[0m\n\u001b[1;32m      4\u001b[0m \u001b[0mgroup_by_years\u001b[0m\u001b[0;34m.\u001b[0m\u001b[0mhead\u001b[0m\u001b[0;34m(\u001b[0m\u001b[0;34m)\u001b[0m\u001b[0;34m\u001b[0m\u001b[0;34m\u001b[0m\u001b[0m\n",
            "\u001b[0;31mNameError\u001b[0m: name 'licensed_themes' is not defined"
          ]
        }
      ],
      "source": [
        "# let's add \"count\" columns = 1 to all rows, then we can sum depends on that columns\n",
        "licensed_themes['count'] = 1\n",
        "group_by_years = licensed_themes.groupby(['year','parent_theme']).sum()\n",
        "group_by_years.head()"
      ]
    },
    {
      "cell_type": "code",
      "execution_count": 12,
      "id": "6c2f3f74",
      "metadata": {
        "execution": {
          "iopub.execute_input": "2022-03-13T14:41:03.194166Z",
          "iopub.status.busy": "2022-03-13T14:41:03.193384Z",
          "iopub.status.idle": "2022-03-13T14:41:03.205276Z",
          "shell.execute_reply": "2022-03-13T14:41:03.205811Z",
          "shell.execute_reply.started": "2022-03-13T14:18:30.141348Z"
        },
        "papermill": {
          "duration": 0.041424,
          "end_time": "2022-03-13T14:41:03.205991",
          "exception": false,
          "start_time": "2022-03-13T14:41:03.164567",
          "status": "completed"
        },
        "tags": [],
        "colab": {
          "base_uri": "https://localhost:8080/",
          "height": 222
        },
        "id": "6c2f3f74",
        "outputId": "386d0ac6-3913-4f09-90fa-380b9316125d"
      },
      "outputs": [
        {
          "output_type": "error",
          "ename": "NameError",
          "evalue": "ignored",
          "traceback": [
            "\u001b[0;31m---------------------------------------------------------------------------\u001b[0m",
            "\u001b[0;31mNameError\u001b[0m                                 Traceback (most recent call last)",
            "\u001b[0;32m<ipython-input-12-ae9ad5aea04b>\u001b[0m in \u001b[0;36m<module>\u001b[0;34m()\u001b[0m\n\u001b[1;32m      1\u001b[0m \u001b[0;31m# now we need to get the max count for each year\u001b[0m\u001b[0;34m\u001b[0m\u001b[0;34m\u001b[0m\u001b[0;34m\u001b[0m\u001b[0m\n\u001b[1;32m      2\u001b[0m \u001b[0;31m# lets get the max for each year by sorting by the count in descding order\u001b[0m\u001b[0;34m\u001b[0m\u001b[0;34m\u001b[0m\u001b[0;34m\u001b[0m\u001b[0m\n\u001b[0;32m----> 3\u001b[0;31m \u001b[0mmax_sets\u001b[0m \u001b[0;34m=\u001b[0m \u001b[0mgroup_by_years\u001b[0m\u001b[0;34m.\u001b[0m\u001b[0msort_values\u001b[0m\u001b[0;34m(\u001b[0m\u001b[0;34m'count'\u001b[0m\u001b[0;34m,\u001b[0m \u001b[0mascending\u001b[0m \u001b[0;34m=\u001b[0m \u001b[0;32mFalse\u001b[0m\u001b[0;34m)\u001b[0m\u001b[0;34m\u001b[0m\u001b[0;34m\u001b[0m\u001b[0m\n\u001b[0m\u001b[1;32m      4\u001b[0m \u001b[0mmax_sets\u001b[0m\u001b[0;34m.\u001b[0m\u001b[0mhead\u001b[0m\u001b[0;34m(\u001b[0m\u001b[0;34m)\u001b[0m\u001b[0;34m\u001b[0m\u001b[0;34m\u001b[0m\u001b[0m\n",
            "\u001b[0;31mNameError\u001b[0m: name 'group_by_years' is not defined"
          ]
        }
      ],
      "source": [
        "# now we need to get the max count for each year\n",
        "# lets get the max for each year by sorting by the count in descding order\n",
        "max_sets = group_by_years.sort_values('count', ascending = False)\n",
        "max_sets.head()"
      ]
    },
    {
      "cell_type": "code",
      "execution_count": null,
      "id": "993c4c79",
      "metadata": {
        "execution": {
          "iopub.execute_input": "2022-03-13T14:41:03.261797Z",
          "iopub.status.busy": "2022-03-13T14:41:03.261120Z",
          "iopub.status.idle": "2022-03-13T14:41:03.277934Z",
          "shell.execute_reply": "2022-03-13T14:41:03.278430Z",
          "shell.execute_reply.started": "2022-03-13T14:18:30.158351Z"
        },
        "papermill": {
          "duration": 0.046612,
          "end_time": "2022-03-13T14:41:03.278622",
          "exception": false,
          "start_time": "2022-03-13T14:41:03.232010",
          "status": "completed"
        },
        "tags": [],
        "id": "993c4c79",
        "outputId": "5d95572d-0e8c-45b9-f9b8-f1e771a974eb"
      },
      "outputs": [
        {
          "data": {
            "text/html": [
              "<div>\n",
              "<style scoped>\n",
              "    .dataframe tbody tr th:only-of-type {\n",
              "        vertical-align: middle;\n",
              "    }\n",
              "\n",
              "    .dataframe tbody tr th {\n",
              "        vertical-align: top;\n",
              "    }\n",
              "\n",
              "    .dataframe thead th {\n",
              "        text-align: right;\n",
              "    }\n",
              "</style>\n",
              "<table border=\"1\" class=\"dataframe\">\n",
              "  <thead>\n",
              "    <tr style=\"text-align: right;\">\n",
              "      <th></th>\n",
              "      <th>year</th>\n",
              "      <th>parent_theme</th>\n",
              "      <th>num_parts</th>\n",
              "      <th>id</th>\n",
              "      <th>is_licensed</th>\n",
              "      <th>count</th>\n",
              "    </tr>\n",
              "  </thead>\n",
              "  <tbody>\n",
              "    <tr>\n",
              "      <th>0</th>\n",
              "      <td>2017</td>\n",
              "      <td>Super Heroes</td>\n",
              "      <td>13123.0</td>\n",
              "      <td>34704</td>\n",
              "      <td>72</td>\n",
              "      <td>72</td>\n",
              "    </tr>\n",
              "    <tr>\n",
              "      <th>1</th>\n",
              "      <td>2016</td>\n",
              "      <td>Star Wars</td>\n",
              "      <td>6934.0</td>\n",
              "      <td>9638</td>\n",
              "      <td>61</td>\n",
              "      <td>61</td>\n",
              "    </tr>\n",
              "    <tr>\n",
              "      <th>2</th>\n",
              "      <td>2015</td>\n",
              "      <td>Star Wars</td>\n",
              "      <td>11410.0</td>\n",
              "      <td>9164</td>\n",
              "      <td>58</td>\n",
              "      <td>58</td>\n",
              "    </tr>\n",
              "    <tr>\n",
              "      <th>4</th>\n",
              "      <td>2014</td>\n",
              "      <td>Star Wars</td>\n",
              "      <td>8293.0</td>\n",
              "      <td>7110</td>\n",
              "      <td>45</td>\n",
              "      <td>45</td>\n",
              "    </tr>\n",
              "    <tr>\n",
              "      <th>5</th>\n",
              "      <td>2012</td>\n",
              "      <td>Star Wars</td>\n",
              "      <td>6769.0</td>\n",
              "      <td>6794</td>\n",
              "      <td>43</td>\n",
              "      <td>43</td>\n",
              "    </tr>\n",
              "  </tbody>\n",
              "</table>\n",
              "</div>"
            ],
            "text/plain": [
              "   year  parent_theme  num_parts     id  is_licensed  count\n",
              "0  2017  Super Heroes    13123.0  34704           72     72\n",
              "1  2016     Star Wars     6934.0   9638           61     61\n",
              "2  2015     Star Wars    11410.0   9164           58     58\n",
              "4  2014     Star Wars     8293.0   7110           45     45\n",
              "5  2012     Star Wars     6769.0   6794           43     43"
            ]
          },
          "execution_count": 12,
          "metadata": {},
          "output_type": "execute_result"
        }
      ],
      "source": [
        "# above we can see 1st and 4th rows, both are in 2017 but we need the fisrt as it's the max (most popular)\n",
        "# simply we can drop duplicates and keep the first value only which is the default behavior of drop_duolicates() method\n",
        "max_sets = max_sets.reset_index()\n",
        "max_sets_no_dublicates = max_sets.drop_duplicates(subset = 'year')\n",
        "max_sets_no_dublicates.head(10)\n",
        "max_sets_no_dublicates.sort_values('year')\n",
        "\n",
        "max_sets_no_dublicates.head()"
      ]
    },
    {
      "cell_type": "code",
      "execution_count": null,
      "id": "fef30f88",
      "metadata": {
        "execution": {
          "iopub.execute_input": "2022-03-13T14:41:03.334285Z",
          "iopub.status.busy": "2022-03-13T14:41:03.333556Z",
          "iopub.status.idle": "2022-03-13T14:41:03.340941Z",
          "shell.execute_reply": "2022-03-13T14:41:03.341561Z",
          "shell.execute_reply.started": "2022-03-13T14:18:30.177688Z"
        },
        "papermill": {
          "duration": 0.037186,
          "end_time": "2022-03-13T14:41:03.341766",
          "exception": false,
          "start_time": "2022-03-13T14:41:03.304580",
          "status": "completed"
        },
        "tags": [],
        "id": "fef30f88",
        "outputId": "2b2887a0-e2f1-4aa0-83b9-5e7bf9e94472"
      },
      "outputs": [
        {
          "data": {
            "text/plain": [
              "0    2017\n",
              "Name: year, dtype: int64"
            ]
          },
          "execution_count": 13,
          "metadata": {},
          "output_type": "execute_result"
        }
      ],
      "source": [
        "years_war_star_not_popular = max_sets_no_dublicates[max_sets_no_dublicates[\"parent_theme\"] != \"Star Wars\"]['year']\n",
        "years_war_star_not_popular"
      ]
    },
    {
      "cell_type": "code",
      "execution_count": null,
      "id": "b8d244b8",
      "metadata": {
        "execution": {
          "iopub.execute_input": "2022-03-13T14:41:03.402625Z",
          "iopub.status.busy": "2022-03-13T14:41:03.401929Z",
          "iopub.status.idle": "2022-03-13T14:41:03.403293Z",
          "shell.execute_reply": "2022-03-13T14:41:03.403891Z",
          "shell.execute_reply.started": "2022-03-13T14:18:30.187315Z"
        },
        "papermill": {
          "duration": 0.034316,
          "end_time": "2022-03-13T14:41:03.404067",
          "exception": false,
          "start_time": "2022-03-13T14:41:03.369751",
          "status": "completed"
        },
        "tags": [],
        "id": "b8d244b8"
      },
      "outputs": [],
      "source": [
        "# Answer is 2017"
      ]
    },
    {
      "cell_type": "code",
      "execution_count": null,
      "id": "eace8acd",
      "metadata": {
        "execution": {
          "iopub.execute_input": "2022-03-13T14:41:03.462908Z",
          "iopub.status.busy": "2022-03-13T14:41:03.462172Z",
          "iopub.status.idle": "2022-03-13T14:41:03.476852Z",
          "shell.execute_reply": "2022-03-13T14:41:03.477427Z",
          "shell.execute_reply.started": "2022-03-13T14:33:26.283753Z"
        },
        "papermill": {
          "duration": 0.04573,
          "end_time": "2022-03-13T14:41:03.477634",
          "exception": false,
          "start_time": "2022-03-13T14:41:03.431904",
          "status": "completed"
        },
        "tags": [],
        "id": "eace8acd",
        "outputId": "2b79ba38-38fc-4117-8370-750150a82b7b"
      },
      "outputs": [
        {
          "data": {
            "text/html": [
              "<div>\n",
              "<style scoped>\n",
              "    .dataframe tbody tr th:only-of-type {\n",
              "        vertical-align: middle;\n",
              "    }\n",
              "\n",
              "    .dataframe tbody tr th {\n",
              "        vertical-align: top;\n",
              "    }\n",
              "\n",
              "    .dataframe thead th {\n",
              "        text-align: right;\n",
              "    }\n",
              "</style>\n",
              "<table border=\"1\" class=\"dataframe\">\n",
              "  <thead>\n",
              "    <tr style=\"text-align: right;\">\n",
              "      <th></th>\n",
              "      <th>year</th>\n",
              "      <th>num_parts</th>\n",
              "      <th>id</th>\n",
              "      <th>is_licensed</th>\n",
              "      <th>count</th>\n",
              "    </tr>\n",
              "  </thead>\n",
              "  <tbody>\n",
              "    <tr>\n",
              "      <th>0</th>\n",
              "      <td>1999</td>\n",
              "      <td>1384.0</td>\n",
              "      <td>2054</td>\n",
              "      <td>13</td>\n",
              "      <td>13</td>\n",
              "    </tr>\n",
              "    <tr>\n",
              "      <th>1</th>\n",
              "      <td>2000</td>\n",
              "      <td>2985.0</td>\n",
              "      <td>6048</td>\n",
              "      <td>31</td>\n",
              "      <td>31</td>\n",
              "    </tr>\n",
              "    <tr>\n",
              "      <th>2</th>\n",
              "      <td>2001</td>\n",
              "      <td>4233.0</td>\n",
              "      <td>4918</td>\n",
              "      <td>25</td>\n",
              "      <td>25</td>\n",
              "    </tr>\n",
              "    <tr>\n",
              "      <th>3</th>\n",
              "      <td>2002</td>\n",
              "      <td>6465.0</td>\n",
              "      <td>10544</td>\n",
              "      <td>50</td>\n",
              "      <td>50</td>\n",
              "    </tr>\n",
              "    <tr>\n",
              "      <th>4</th>\n",
              "      <td>2003</td>\n",
              "      <td>7069.0</td>\n",
              "      <td>8204</td>\n",
              "      <td>40</td>\n",
              "      <td>40</td>\n",
              "    </tr>\n",
              "  </tbody>\n",
              "</table>\n",
              "</div>"
            ],
            "text/plain": [
              "   year  num_parts     id  is_licensed  count\n",
              "0  1999     1384.0   2054           13     13\n",
              "1  2000     2985.0   6048           31     31\n",
              "2  2001     4233.0   4918           25     25\n",
              "3  2002     6465.0  10544           50     50\n",
              "4  2003     7069.0   8204           40     40"
            ]
          },
          "execution_count": 15,
          "metadata": {},
          "output_type": "execute_result"
        }
      ],
      "source": [
        "# Try to show number of sets per year\n",
        "by_year = licensed_themes.groupby(\"year\").sum().reset_index()\n",
        "by_year.head()"
      ]
    },
    {
      "cell_type": "code",
      "execution_count": null,
      "id": "bc3546e5",
      "metadata": {
        "execution": {
          "iopub.execute_input": "2022-03-13T14:41:03.537181Z",
          "iopub.status.busy": "2022-03-13T14:41:03.536424Z",
          "iopub.status.idle": "2022-03-13T14:41:03.959789Z",
          "shell.execute_reply": "2022-03-13T14:41:03.960413Z",
          "shell.execute_reply.started": "2022-03-13T14:38:14.358579Z"
        },
        "papermill": {
          "duration": 0.454475,
          "end_time": "2022-03-13T14:41:03.960597",
          "exception": false,
          "start_time": "2022-03-13T14:41:03.506122",
          "status": "completed"
        },
        "tags": [],
        "id": "bc3546e5",
        "outputId": "0d31a179-45fc-4d10-85f1-b661a08435a5"
      },
      "outputs": [
        {
          "data": {
            "text/plain": [
              "<Figure size 864x576 with 0 Axes>"
            ]
          },
          "metadata": {},
          "output_type": "display_data"
        },
        {
          "data": {
            "image/png": "[encoded data removed]",
            "text/plain": [
              "<Figure size 432x288 with 1 Axes>"
            ]
          },
          "metadata": {
            "needs_background": "light"
          },
          "output_type": "display_data"
        }
      ],
      "source": [
        "plt.figure(figsize=(12,8))\n",
        "by_year.sort_values('count',inplace=True)\n",
        "by_year.plot(kind='barh',y='count',x='year')\n",
        "plt.show()\n"
      ]
    },
    {
      "cell_type": "code",
      "execution_count": null,
      "id": "2eec5723",
      "metadata": {
        "papermill": {
          "duration": 0.028143,
          "end_time": "2022-03-13T14:41:04.017776",
          "exception": false,
          "start_time": "2022-03-13T14:41:03.989633",
          "status": "completed"
        },
        "tags": [],
        "id": "2eec5723"
      },
      "outputs": [],
      "source": [
        ""
      ]
    }
  ],
  "metadata": {
    "kernelspec": {
      "display_name": "Python 3",
      "language": "python",
      "name": "python3"
    },
    "language_info": {
      "codemirror_mode": {
        "name": "ipython",
        "version": 3
      },
      "file_extension": ".py",
      "mimetype": "text/x-python",
      "name": "python",
      "nbconvert_exporter": "python",
      "pygments_lexer": "ipython3",
      "version": "3.7.12"
    },
    "papermill": {
      "default_parameters": {},
      "duration": 15.034438,
      "end_time": "2022-03-13T14:41:04.757547",
      "environment_variables": {},
      "exception": null,
      "input_path": "__notebook__.ipynb",
      "output_path": "__notebook__.ipynb",
      "parameters": {},
      "start_time": "2022-03-13T14:40:49.723109",
      "version": "2.3.3"
    },
    "colab": {
      "name": "lego-history-analysis.ipynb",
      "provenance": []
    }
  },
  "nbformat": 4,
  "nbformat_minor": 5
}